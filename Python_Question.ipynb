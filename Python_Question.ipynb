{
  "nbformat": 4,
  "nbformat_minor": 0,
  "metadata": {
    "colab": {
      "private_outputs": true,
      "provenance": []
    },
    "kernelspec": {
      "name": "python3",
      "display_name": "Python 3"
    },
    "language_info": {
      "name": "python"
    }
  },
  "cells": [
    {
      "cell_type": "markdown",
      "source": [
        "Q1: Write a Python program to generate the Fibonacci sequence up to\n",
        "n terms.\n",
        "\n",
        "● Input: n = 5\n",
        "\n",
        "Output: [0, 1, 1, 2, 3]\n",
        "\n",
        "● Input: n = 8\n",
        "\n",
        "Output: [0, 1, 1, 2, 3, 5, 8, 13]"
      ],
      "metadata": {
        "id": "p2yrETQfzCIJ"
      }
    },
    {
      "cell_type": "code",
      "source": [
        "# a\n",
        "n1=int(input(\"enter number \"))\n",
        "\n",
        "a,b=0,1\n",
        "print(\"Fibonacci Series:\",a,b,end=\" \")\n",
        "for i in range(2,n1):\n",
        "    c=a+b\n",
        "    a=b\n",
        "    b=c\n",
        "    print(c,end=\" \")\n",
        "print()"
      ],
      "metadata": {
        "id": "aSPnJA8FzGdg"
      },
      "execution_count": null,
      "outputs": []
    },
    {
      "cell_type": "code",
      "source": [
        "# b\n",
        "n2=int(input(\"enter number : \"))\n",
        "a,b=0,1\n",
        "print(\"Fibonacci Series:\",a,b,end=\" \")\n",
        "for i in range(2,n2):\n",
        "    c=a+b\n",
        "    a=b\n",
        "    b=c\n",
        "    print(c,end=\" \")\n",
        "\n",
        "print()"
      ],
      "metadata": {
        "id": "6j7zABxqzMXg"
      },
      "execution_count": null,
      "outputs": []
    },
    {
      "cell_type": "markdown",
      "source": [
        "Q2: Write a program to check if a number is an Armstrong number.\n",
        "\n",
        "● Input: n = 153\n",
        "\n",
        "Output: True\n",
        "\n",
        "● Input: n = 123\n",
        "\n",
        "Output: False"
      ],
      "metadata": {
        "id": "BbcyGS8QzVVQ"
      }
    },
    {
      "cell_type": "code",
      "source": [
        "n1 = int(input(\"Enter a number: \"))\n",
        "n2 = int(input(\"Enter a number: \"))\n",
        "print(n1 == sum(int(d)**len(str(n1)) for d in str(n1)))\n",
        "print(n2 == sum(int(d)**len(str(n2)) for d in str(n2)))"
      ],
      "metadata": {
        "id": "bEEkiU2nzQ5C"
      },
      "execution_count": null,
      "outputs": []
    },
    {
      "cell_type": "markdown",
      "source": [
        "Q3: Write a function to find the second largest number in a list without\n",
        "using built-in functions like max().\n",
        "\n",
        "● Input: [10, 20, 5, 8]\n",
        "\n",
        "Output: 10\n",
        "\n",
        "● Input: [3, 7, 1, 9, 5]\n",
        "\n",
        "Output: 7"
      ],
      "metadata": {
        "id": "Ow8aMoTszp8I"
      }
    },
    {
      "cell_type": "code",
      "source": [
        "def second_largest(lst):\n",
        "    lst.remove(max(lst))\n",
        "    return max(lst)\n",
        "print(second_largest([10, 20, 5, 8]))\n",
        "print(second_largest([3, 7, 1, 9, 5]))"
      ],
      "metadata": {
        "id": "RClPax8szqzQ"
      },
      "execution_count": null,
      "outputs": []
    },
    {
      "cell_type": "markdown",
      "source": [
        "\n",
        "Q4: Given two numbers, write a Python program to swap them\n",
        "without using a third variable.\n",
        "\n",
        "● Input: a = 5, b = 10\n",
        "\n",
        "Output: a = 10, b = 5\n",
        "\n",
        "● Input: a = -2, b = 7\n",
        "\n",
        "Output: a = 7, b = -2"
      ],
      "metadata": {
        "id": "8_laUpiSzzHh"
      }
    },
    {
      "cell_type": "code",
      "source": [
        "# a\n",
        "a, b = map(int, input(\"Enter two numbers: \").split())\n",
        "print(f\"Before swapping: a = {a}, b = {b}\")\n",
        "a = a + b\n",
        "b = a - b\n",
        "a = a - b\n",
        "print(f\"After swapping: a = {a}, b = {b}\")"
      ],
      "metadata": {
        "id": "ruDcGrKhz1qv"
      },
      "execution_count": null,
      "outputs": []
    },
    {
      "cell_type": "code",
      "source": [
        "a, b = map(int, input(\"Enter two numbers: \").split())\n",
        "print(f\"Before swapping: a = {a}, b = {b}\")\n",
        "a = a + b\n",
        "b = a - b\n",
        "a = a - b\n",
        "print(f\"After swapping: a = {a}, b = {b}\")"
      ],
      "metadata": {
        "id": "7SBkpmUh0kuY"
      },
      "execution_count": null,
      "outputs": []
    },
    {
      "cell_type": "markdown",
      "source": [
        "Q5: Write a program to evaluate the expression ((a + b) * c / d) % e.\n",
        "\n",
        "● Input: a=10, b=5, c=2, d=3, e=4\n",
        "\n",
        "Output: 3.0\n",
        "\n",
        "● Input: a=8, b=2, c=4, d=2, e=5\n",
        "\n",
        "Output: 1.6"
      ],
      "metadata": {
        "id": "ORofnMtl0ERn"
      }
    },
    {
      "cell_type": "code",
      "source": [
        "# a\n",
        "a, b, c, d, e = map(int, input(\"Enter five numbers: \").split())\n",
        "result = (((a + b) * c / d) % e)\n",
        "print(result)"
      ],
      "metadata": {
        "id": "51LVB4XZz7iv"
      },
      "execution_count": null,
      "outputs": []
    },
    {
      "cell_type": "code",
      "source": [
        "# b\n",
        "a, b, c, d, e = map(int, input(\"Enter five numbers: \").split())\n",
        "result = (((a + b) * c / d) % e)\n",
        "print(result)"
      ],
      "metadata": {
        "id": "lDVG3hor1EKh"
      },
      "execution_count": null,
      "outputs": []
    },
    {
      "cell_type": "markdown",
      "source": [
        "Q6: Write a program that checks if a given year is a leap year or not.\n",
        "\n",
        "Input: year = 2024\n",
        "\n",
        "Output: True\n",
        "\n",
        "● Input: year = 2023\n",
        "\n",
        "Output: False"
      ],
      "metadata": {
        "id": "2Sjo6nIz2mDo"
      }
    },
    {
      "cell_type": "code",
      "source": [
        "year1=int(input(\"enter year : \"))\n",
        "year2=int(input(\"enter year : \"))\n",
        "\n",
        "if (year1 % 4 == 0 and year1 % 100 != 0) or (year1 % 400 == 0):\n",
        "    print(True)\n",
        "else:\n",
        "    print(False)\n",
        "print(\"------------------\")\n",
        "if (year2 % 4 == 0 and year2 % 100 != 0) or (year2 % 400 == 0):\n",
        "    print(True)\n",
        "else:\n",
        "    print(False)"
      ],
      "metadata": {
        "id": "2PrE1yDC143n"
      },
      "execution_count": null,
      "outputs": []
    },
    {
      "cell_type": "markdown",
      "source": [
        "Q7: Write a program to merge two dictionaries and sum the values of\n",
        "common keys.\n",
        "\n",
        "● Input: d1 = {'a': 10}, d2 = {'a': 5, 'b': 3}\n",
        "\n",
        "Output: {'a': 15, 'b': 3}"
      ],
      "metadata": {
        "id": "RevHCMX23UY-"
      }
    },
    {
      "cell_type": "code",
      "source": [
        "d1={'a':10}\n",
        "d2={'a':5,'b':3}\n",
        "d3={}\n",
        "for key,value in d1.items():\n",
        "    if key in d2:\n",
        "        d3[key]=value+d2[key]\n",
        "    else:\n",
        "        d3[key]=value\n",
        "for key,value in d2.items():\n",
        "    if key not in d3:\n",
        "        d3[key]=value\n",
        "print(d3)"
      ],
      "metadata": {
        "id": "4NseV9Rb2zWR"
      },
      "execution_count": null,
      "outputs": []
    },
    {
      "cell_type": "markdown",
      "source": [
        "Q8: Write a Python script to find the key with the maximum value in a\n",
        "given dictionary.\n",
        "\n",
        "● Input: {'a': 10, 'b': 30, 'c': 25}\n",
        "\n",
        "Output: 'b'"
      ],
      "metadata": {
        "id": "I_ogAUyj3pw9"
      }
    },
    {
      "cell_type": "code",
      "source": [
        "a={'a': 10, 'b': 30, 'c': 25}\n",
        "print(max(a,key=a.get))"
      ],
      "metadata": {
        "id": "fplxDxAG3tIF"
      },
      "execution_count": null,
      "outputs": []
    },
    {
      "cell_type": "markdown",
      "source": [
        "Q9: Write a Python program to find the index of an element in a tuple\n",
        "without using the index() method.\n",
        "\n",
        "● Input: t = (4, 7, 1, 9), value = 7\n",
        "\n",
        "Output: 1"
      ],
      "metadata": {
        "id": "HrOg4-LU4LP-"
      }
    },
    {
      "cell_type": "code",
      "source": [
        "t=(4,7,1,9)\n",
        "value=7\n",
        "for i in range(len(t)):\n",
        "    if t[i]==value:\n",
        "        print(i)\n",
        "print()"
      ],
      "metadata": {
        "id": "67Fp8BEe3cP2"
      },
      "execution_count": null,
      "outputs": []
    },
    {
      "cell_type": "markdown",
      "source": [
        "Q10: Given a tuple of numbers, write a program to calculate the sum\n",
        "of all elements.\n",
        "\n",
        "● Input: t = (1, 2, 3, 4)\n",
        "\n",
        "Output: 10"
      ],
      "metadata": {
        "id": "7OPtZ2ZW4WQ9"
      }
    },
    {
      "cell_type": "code",
      "source": [
        "t=(1,2,3,4)\n",
        "sum=0\n",
        "for i in t:\n",
        "    sum+=i\n",
        "print(sum)"
      ],
      "metadata": {
        "id": "s0R3nwFp4Ugl"
      },
      "execution_count": null,
      "outputs": []
    },
    {
      "cell_type": "markdown",
      "source": [
        "Q11: Write a Python program to remove duplicates from a list using a\n",
        "set.\n",
        "\n",
        "● Input: [1, 2, 2, 3, 4, 4]\n",
        "\n",
        "Output: {1, 2, 3, 4}"
      ],
      "metadata": {
        "id": "Lz1H48E64euV"
      }
    },
    {
      "cell_type": "code",
      "source": [
        "a=[1,2,2,3,4,4]\n",
        "b=set(a)\n",
        "print(b)"
      ],
      "metadata": {
        "id": "2KBeysPL4bhG"
      },
      "execution_count": null,
      "outputs": []
    },
    {
      "cell_type": "markdown",
      "source": [
        "Q12: Write a Python program to check if one set is a subset of\n",
        "another.\n",
        "\n",
        "● Input: set1 = {1, 2}, set2 = {1, 2, 3, 4}\n",
        "\n",
        "Output: True"
      ],
      "metadata": {
        "id": "4yHxgrzK4rTO"
      }
    },
    {
      "cell_type": "code",
      "source": [
        "set1={1,2}\n",
        "set2={1,2,3,4}\n",
        "print(set1.issubset(set2))"
      ],
      "metadata": {
        "id": "C5EAl-7O4mgN"
      },
      "execution_count": null,
      "outputs": []
    },
    {
      "cell_type": "markdown",
      "source": [
        "Q13: Write a Python program to find the second smallest number in a\n",
        "list.\n",
        "\n",
        "● Input: [10, 5, 8, 3, 12]\n",
        "\n",
        "Output: 5\n",
        "\n",
        "● Input: [20, 15, 25,30]\n",
        "\n",
        "Output: 20"
      ],
      "metadata": {
        "id": "v-iT6prl41IQ"
      }
    },
    {
      "cell_type": "code",
      "source": [
        "# a\n",
        "a=[10,5,8,3,12]\n",
        "def second_smallest(lst):\n",
        "    lst.remove(min(lst))\n",
        "    return min(lst)\n",
        "print(second_smallest(a))"
      ],
      "metadata": {
        "id": "IEJF_9jR4u5d"
      },
      "execution_count": null,
      "outputs": []
    },
    {
      "cell_type": "code",
      "source": [
        "# b\n",
        "a=[20,15,25,30]\n",
        "def smallest(lst):\n",
        "    lst.remove(min(lst))\n",
        "    return min(lst)\n",
        "print(smallest(a))"
      ],
      "metadata": {
        "id": "Jh5S9bkd5RGn"
      },
      "execution_count": null,
      "outputs": []
    },
    {
      "cell_type": "markdown",
      "source": [
        "Q14: Write a program to find the common elements between two lists.\n",
        "\n",
        "● Input: [1, 2, 3], [2, 3, 4]\n",
        "\n",
        "Output: [2, 3]"
      ],
      "metadata": {
        "id": "cXmcB6RM7Gbj"
      }
    },
    {
      "cell_type": "code",
      "source": [
        "a=[1,2,3],[2,3,4]\n",
        "common_elements=[]\n",
        "for i in a[0]:\n",
        "    if i in a[1]:\n",
        "        common_elements.append(i)\n",
        "print(common_elements)"
      ],
      "metadata": {
        "id": "EfDrvDTI68pc"
      },
      "execution_count": null,
      "outputs": []
    },
    {
      "cell_type": "markdown",
      "source": [
        "Q15: Write a Python program to find the common elements between\n",
        "two lists without using the intersection() method.\n",
        "\n",
        "● Input:\n",
        "\n",
        "list1 = [1, 2, 3, 4, 5]\n",
        "\n",
        "list2 = [4, 5, 6, 7]\n",
        "\n",
        "Output:\n",
        "\n",
        "[4, 5]\n",
        "● Input:\n",
        "\n",
        "list1 = [10, 20, 30]\n",
        "\n",
        "list2 = [30, 40, 50]\n",
        "\n",
        "Output:\n",
        "\n",
        "[30]"
      ],
      "metadata": {
        "id": "1wkSJNB47UAL"
      }
    },
    {
      "cell_type": "code",
      "source": [
        "# a\n",
        "list1=[1,2,3,4,5]\n",
        "list2=[4,5,6,7]\n",
        "common_elements=[]\n",
        "for i in list1:\n",
        "    if i in list2:\n",
        "        common_elements.append(i)\n",
        "print(common_elements)\n"
      ],
      "metadata": {
        "id": "QQMcVwLo7N4c"
      },
      "execution_count": null,
      "outputs": []
    },
    {
      "cell_type": "code",
      "source": [
        "# b\n",
        "list1=[10,20,30]\n",
        "list2=[30,40,50]\n",
        "common_elements=[]\n",
        "for i in list1:\n",
        "    if i in list2:\n",
        "        common_elements.append(i)\n",
        "print(common_elements)"
      ],
      "metadata": {
        "id": "LS6rmaKA7hSb"
      },
      "execution_count": null,
      "outputs": []
    },
    {
      "cell_type": "markdown",
      "source": [
        "Q16: Write a Python program to count the occurrences of each\n",
        "character in a string.\n",
        "\n",
        "● Input: \"hello\"\n",
        "\n",
        "Output: {'h': 1, 'e': 1, 'l': 2, 'o': 1}"
      ],
      "metadata": {
        "id": "ok2l9XVn7zDj"
      }
    },
    {
      "cell_type": "code",
      "source": [
        "a = \"hello\"\n",
        "char_counts = {}\n",
        "for char in a:\n",
        "    if char in char_counts:\n",
        "        char_counts[char] += 1\n",
        "    else:\n",
        "        char_counts[char] = 1\n",
        "occurrence_of_l = a.count('l')\n",
        "print(char_counts)\n"
      ],
      "metadata": {
        "id": "veowC3xL7q7L"
      },
      "execution_count": null,
      "outputs": []
    },
    {
      "cell_type": "markdown",
      "source": [
        "Q17: Write a program to check if a string is a palindrome without\n",
        "using string reversal functions.\n",
        "\n",
        "● Input: \"madam\"\n",
        "\n",
        "Output: True\n",
        "\n",
        "● Input: \"hello\"\n",
        "\n",
        "Output: False"
      ],
      "metadata": {
        "id": "6x_PZUxq8UfU"
      }
    },
    {
      "cell_type": "code",
      "source": [
        "a='madam'\n",
        "b='hello'\n",
        "print(a==a[::-1])\n",
        "print()\n",
        "print(b==b[::-1])"
      ],
      "metadata": {
        "id": "dsOWlt0E7-Qj"
      },
      "execution_count": null,
      "outputs": []
    },
    {
      "cell_type": "markdown",
      "source": [
        "Q18: Write a program to classify a number as positive, negative, or\n",
        "zero.\n",
        "\n",
        "● Input: n = -5\n",
        "\n",
        "Output: \"Negative\"\n",
        "\n",
        "● Input: n = 0\n",
        "\n",
        "Output: \"Zero\""
      ],
      "metadata": {
        "id": "KfCKmDUp8sCk"
      }
    },
    {
      "cell_type": "code",
      "source": [
        "# a\n",
        "n=-5\n",
        "if n>0:\n",
        "    print(\"positive\")\n",
        "elif n<0:\n",
        "    print(\"negative\")\n",
        "else:\n",
        "    print(\"zero\")"
      ],
      "metadata": {
        "id": "WSmbWEN_8csD"
      },
      "execution_count": null,
      "outputs": []
    },
    {
      "cell_type": "code",
      "source": [
        "# b\n",
        "n=0\n",
        "if n>0:\n",
        "    print(\"positive\")\n",
        "elif n<0:\n",
        "    print(\"negative\")\n",
        "else:\n",
        "    print(\"zero\")"
      ],
      "metadata": {
        "id": "PbB5-IoF8zbt"
      },
      "execution_count": null,
      "outputs": []
    },
    {
      "cell_type": "markdown",
      "source": [
        "Q19: Write a Python program to print the multiplication table of a\n",
        "given number using a for loop.\n",
        "\n",
        "● Input: n = 3\n",
        "\n",
        "Output: [3, 6, 9, 12, 15, 18, 21, 24, 27, 30]"
      ],
      "metadata": {
        "id": "rGZlVKY49ETM"
      }
    },
    {
      "cell_type": "code",
      "source": [
        "n = int(input(\"Enter a number: \"))\n",
        "print([n * i for i in range(1, 11)])"
      ],
      "metadata": {
        "id": "rT3s3xd29ZZL"
      },
      "execution_count": null,
      "outputs": []
    },
    {
      "cell_type": "markdown",
      "source": [
        "Q20: Write a Python program to reverse a given number using a while\n",
        "loop.\n",
        "\n",
        "● Input: 1234\n",
        "\n",
        "Output: 4321"
      ],
      "metadata": {
        "id": "ZLsLSbaK-MEU"
      }
    },
    {
      "cell_type": "code",
      "source": [
        "a=1234\n",
        "reverse=0\n",
        "while a>0:\n",
        "    reverse=(reverse*10)+a%10\n",
        "    a//=10\n",
        "print(reverse)"
      ],
      "metadata": {
        "id": "ddI0ujaQ-K4q"
      },
      "execution_count": null,
      "outputs": []
    },
    {
      "cell_type": "markdown",
      "source": [
        "Q21: Write a Python function to check if a number is prime.\n",
        "\n",
        "● Input: 7\n",
        "\n",
        "Output: True\n",
        "\n",
        "● Input: 9\n",
        "\n",
        "Output: False"
      ],
      "metadata": {
        "id": "JA8VEec--xE5"
      }
    },
    {
      "cell_type": "code",
      "source": [
        "#a\n",
        "a=int(input(\"enter a number : \"))\n",
        "def prime(a):\n",
        "    if a<=1:\n",
        "        return False\n",
        "    for i in range(2,int(a**0.5)+1):\n",
        "        if a%i==0:\n",
        "            return False\n",
        "    return True\n",
        "print(prime(a))\n"
      ],
      "metadata": {
        "id": "qndmdIDc-c6B"
      },
      "execution_count": null,
      "outputs": []
    },
    {
      "cell_type": "code",
      "source": [
        "# b\n",
        "b=int(input(\"enter a number : \"))\n",
        "def is_prime(b):\n",
        "    if b<=1:\n",
        "        return False\n",
        "    for i in range(2,int(b**0.5)+1):\n",
        "        if b%i==0:\n",
        "            return False\n",
        "    return True\n",
        "print(is_prime(b))\n"
      ],
      "metadata": {
        "id": "vUNKgVkG-89p"
      },
      "execution_count": null,
      "outputs": []
    },
    {
      "cell_type": "markdown",
      "source": [
        "Q22: Write a recursive function to calculate the sum of digits of a\n",
        "number.\n",
        "\n",
        "● Input: n = 123\n",
        "\n",
        "Output: 6"
      ],
      "metadata": {
        "id": "C5ZUdZop_grx"
      }
    },
    {
      "cell_type": "code",
      "source": [
        "n=123\n",
        "def sum_of_digits(n):\n",
        "    if n==0:\n",
        "        return 0\n",
        "    else:\n",
        "        return n%10+sum_of_digits(n//10)\n",
        "print(sum_of_digits(n))"
      ],
      "metadata": {
        "id": "OEAuaIt2_TMH"
      },
      "execution_count": null,
      "outputs": []
    },
    {
      "cell_type": "markdown",
      "source": [
        "Q23: Write a lambda function to find the square of a number.\n",
        "\n",
        "● Input: n = 5\n",
        "\n",
        "Output: 25\n",
        "\n",
        "● Input: n = 9\n",
        "\n",
        "Output: 81"
      ],
      "metadata": {
        "id": "lh5mwCW8_qOK"
      }
    },
    {
      "cell_type": "code",
      "source": [
        "#a\n",
        "n=5\n",
        "square=lambda n:n**2\n",
        "print(square(n))"
      ],
      "metadata": {
        "id": "Q7VScoZW_jvR"
      },
      "execution_count": null,
      "outputs": []
    },
    {
      "cell_type": "code",
      "source": [
        "#b\n",
        "n=9\n",
        "square=lambda n:n**2\n",
        "print(square(n))"
      ],
      "metadata": {
        "id": "ep8LOhe7_vyp"
      },
      "execution_count": null,
      "outputs": []
    },
    {
      "cell_type": "markdown",
      "source": [
        "Q24: Write a lambda function to filter out even numbers from a list.\n",
        "\n",
        "● Input: [1, 2, 3, 4, 5, 6]\n",
        "\n",
        "Output: [2, 4, 6]"
      ],
      "metadata": {
        "id": "yfDoal4M_-OI"
      }
    },
    {
      "cell_type": "code",
      "source": [
        "n=[1,2,3,4,5,6]\n",
        "even=list(filter(lambda x:x%2==0,n))\n",
        "print(even)"
      ],
      "metadata": {
        "id": "Yye_cMrB_56I"
      },
      "execution_count": null,
      "outputs": []
    },
    {
      "cell_type": "markdown",
      "source": [
        "Q25: Write a Python program to square all elements in a list using the\n",
        "map() function.\n",
        "\n",
        "● Input: [1, 2, 3]\n",
        "\n",
        "Output: [1, 4, 9]"
      ],
      "metadata": {
        "id": "O3tHpRx3AMDp"
      }
    },
    {
      "cell_type": "code",
      "source": [
        "x=[1,2,3]\n",
        "square=list(map(lambda x:x**2,x))\n",
        "print(square)"
      ],
      "metadata": {
        "id": "4hjHcgltAIfi"
      },
      "execution_count": null,
      "outputs": []
    },
    {
      "cell_type": "markdown",
      "source": [
        "Q26: Write a Python program to find the sum of elements in a list\n",
        "using the reduce() function.\n",
        "\n",
        "● Input: [1, 2, 3, 4]\n",
        "\n",
        "Output: 10"
      ],
      "metadata": {
        "id": "C4EAooEjAV9C"
      }
    },
    {
      "cell_type": "code",
      "source": [
        "from functools import reduce\n",
        "a = [1, 2, 3, 4]\n",
        "sum_result = reduce(lambda x, y: x + y, a)\n",
        "print(sum_result)"
      ],
      "metadata": {
        "id": "RWrzx7GBAQNY"
      },
      "execution_count": null,
      "outputs": []
    },
    {
      "cell_type": "markdown",
      "source": [
        "Q27: Write a Python program to handle division by zero using\n",
        "try-except.\n",
        "● Input: a = 10, b = 0\n",
        "Output: \"Cannot divide by zero\""
      ],
      "metadata": {
        "id": "C2pvQinOAn6A"
      }
    },
    {
      "cell_type": "code",
      "source": [
        "a=10\n",
        "b=0\n",
        "try:\n",
        "    result=a/b\n",
        "except ZeroDivisionError:\n",
        "    print(\"cannot divide by zero\")"
      ],
      "metadata": {
        "id": "mv-x3_vEAZ3i"
      },
      "execution_count": null,
      "outputs": []
    },
    {
      "cell_type": "markdown",
      "source": [
        "Q28: Write a program to handle key errors when accessing a\n",
        "dictionary.\n",
        "\n",
        "● Input: d = {'a': 1}, key = 'b'\n",
        "\n",
        "Output: \"Key not found\""
      ],
      "metadata": {
        "id": "rQh-kHZEAw1o"
      }
    },
    {
      "cell_type": "code",
      "source": [
        "d={'a':1}\n",
        "key='b'\n",
        "try:\n",
        "    value=d[key]\n",
        "except KeyError:\n",
        "    print(\"key not found\")"
      ],
      "metadata": {
        "id": "627agqwEAtVI"
      },
      "execution_count": null,
      "outputs": []
    },
    {
      "cell_type": "markdown",
      "source": [
        "Q29: Write a Python program to create and start a thread that prints\n",
        " numbers from 1 to 5.\n",
        " ● Input: None\n",
        " Output: 1 2 3 4 5"
      ],
      "metadata": {
        "id": "KeVfWhr8BLtI"
      }
    },
    {
      "cell_type": "code",
      "source": [
        "import threading\n",
        "def print_numbers():\n",
        "    for i in range(1,6):\n",
        "        print(i)\n",
        "thread=threading.Thread(target=print_numbers)\n",
        "thread.start()\n",
        "thread.join()"
      ],
      "metadata": {
        "id": "Kd9c5_37BXxA"
      },
      "execution_count": null,
      "outputs": []
    },
    {
      "cell_type": "markdown",
      "source": [
        "Q30: Write a Python program that creates and starts two threads. The\n",
        "first thread should print numbers from 1 to 5, and the second thread\n",
        "should print the letters 'A' to 'E'. Ensure both threads run\n",
        "simultaneously. Add time.sleep(0.1) in both functions to simulate a\n",
        "time delay and allow the threads to switch between each other."
      ],
      "metadata": {
        "id": "m5EpRt9_CEeI"
      }
    },
    {
      "cell_type": "code",
      "source": [
        "import threading\n",
        "import time\n",
        "def print_numbers():\n",
        "    for i in range(1, 6):\n",
        "        print(i)\n",
        "        time.sleep(0.1)\n",
        "def print_letters():\n",
        "  for letter in 'ABCDE':\n",
        "    print(letter)\n",
        "    time.sleep(0.1)\n",
        "thread1 = threading.Thread(target=print_numbers)\n",
        "thread2 = threading.Thread(target=print_letters)\n",
        "thread1.start()\n",
        "thread2.start()\n",
        "thread1.join()\n",
        "thread2.join()"
      ],
      "metadata": {
        "id": "CovhUJ3HBdhQ"
      },
      "execution_count": null,
      "outputs": []
    },
    {
      "cell_type": "markdown",
      "source": [
        "31: Write a Python program that imports a custom module\n",
        "containing a function to add two numbers.\n",
        "\n",
        "● Input: add(3, 5)\n",
        "\n",
        "Output: 8"
      ],
      "metadata": {
        "id": "fKPGfbtVHcI8"
      }
    },
    {
      "cell_type": "code",
      "source": [
        "def add(a,b):\n",
        "    return a+b\n",
        "print(add(3,5))"
      ],
      "metadata": {
        "id": "eMScNH4VZ9Vp"
      },
      "execution_count": null,
      "outputs": []
    },
    {
      "cell_type": "code",
      "source": [],
      "metadata": {
        "id": "GbL3_s8ja32S"
      },
      "execution_count": null,
      "outputs": []
    }
  ]
}